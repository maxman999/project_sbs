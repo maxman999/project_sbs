{
 "cells": [
  {
   "cell_type": "code",
   "execution_count": 2,
   "id": "potential-manner",
   "metadata": {},
   "outputs": [
    {
     "name": "stdout",
     "output_type": "stream",
     "text": [
      "Collecting flask\n",
      "  Downloading Flask-1.1.2-py2.py3-none-any.whl (94 kB)\n",
      "Collecting itsdangerous>=0.24\n",
      "  Downloading itsdangerous-1.1.0-py2.py3-none-any.whl (16 kB)\n",
      "Requirement already satisfied: Werkzeug>=0.15 in c:\\users\\smhrd\\anaconda3\\envs\\deep01\\lib\\site-packages (from flask) (1.0.1)\n",
      "Requirement already satisfied: click>=5.1 in c:\\users\\smhrd\\anaconda3\\envs\\deep01\\lib\\site-packages (from flask) (7.1.2)\n",
      "Requirement already satisfied: Jinja2>=2.10.1 in c:\\users\\smhrd\\anaconda3\\envs\\deep01\\lib\\site-packages (from flask) (2.11.3)\n",
      "Requirement already satisfied: MarkupSafe>=0.23 in c:\\users\\smhrd\\anaconda3\\envs\\deep01\\lib\\site-packages (from Jinja2>=2.10.1->flask) (1.1.1)\n",
      "Installing collected packages: itsdangerous, flask\n",
      "Successfully installed flask-1.1.2 itsdangerous-1.1.0\n"
     ]
    }
   ],
   "source": [
    "!pip install flask"
   ]
  },
  {
   "cell_type": "code",
   "execution_count": 1,
   "id": "attended-washington",
   "metadata": {},
   "outputs": [],
   "source": [
    "from flask import Flask, render_template, request, redirect\n",
    "from werkzeug.utils import secure_filename\n",
    "from IPython.display import Image\n",
    "import urllib.parse\n",
    "from tensorflow.keras.models import load_model\n",
    "import cv2\n",
    "from tensorflow.keras.preprocessing.image import array_to_img\n",
    "from tensorflow.keras.preprocessing import image\n",
    "import numpy as np"
   ]
  },
  {
   "cell_type": "code",
   "execution_count": 15,
   "id": "compliant-collector",
   "metadata": {},
   "outputs": [],
   "source": [
    "SAVE_DIR = \"./Model/\"\n",
    "model = load_model(SAVE_DIR +\"sbs_001_0.356_0.200.hdf5\")\n",
    "\n",
    "cls_index = ['금전수','퓨미라','타라','천냥금','파키라']"
   ]
  },
  {
   "cell_type": "code",
   "execution_count": 12,
   "id": "wrapped-supervisor",
   "metadata": {},
   "outputs": [],
   "source": [
    "# import tensorflow as tf\n",
    "# import matplotlib.pyplot as plt\n",
    "# img = tf.keras.preprocessing.image.array_to_img(img).resize((128, 128))\n",
    "# plt.imshow(img)"
   ]
  },
  {
   "cell_type": "code",
   "execution_count": 24,
   "id": "acknowledged-remainder",
   "metadata": {},
   "outputs": [],
   "source": [
    "plantDic = { \"금전수\" : 13193, \"퓨미라\" : 19716, \"타라\" : 13186 }"
   ]
  },
  {
   "cell_type": "code",
   "execution_count": 25,
   "id": "bright-dominant",
   "metadata": {},
   "outputs": [],
   "source": [
    "# 19716:스킨답서스 , 13193:타라, 13186:금전수"
   ]
  },
  {
   "cell_type": "code",
   "execution_count": null,
   "id": "choice-leader",
   "metadata": {
    "scrolled": true
   },
   "outputs": [
    {
     "name": "stdout",
     "output_type": "stream",
     "text": [
      " * Serving Flask app \"__main__\" (lazy loading)\n",
      " * Environment: production\n",
      "   WARNING: This is a development server. Do not use it in a production deployment.\n",
      "   Use a production WSGI server instead.\n",
      " * Debug mode: off\n"
     ]
    },
    {
     "name": "stderr",
     "output_type": "stream",
     "text": [
      " * Running on http://127.0.0.1:5000/ (Press CTRL+C to quit)\n",
      "127.0.0.1 - - [30/Mar/2021 16:39:51] \"\u001b[37mPOST /getImgName HTTP/1.1\u001b[0m\" 200 -\n"
     ]
    },
    {
     "name": "stdout",
     "output_type": "stream",
     "text": [
      "ImmutableMultiDict([('imgName', '천냥금.jpg')])\n",
      "천냥금.jpg\n",
      "타라\n"
     ]
    },
    {
     "name": "stderr",
     "output_type": "stream",
     "text": [
      "127.0.0.1 - - [30/Mar/2021 16:40:02] \"\u001b[37mPOST /getImgName HTTP/1.1\u001b[0m\" 200 -\n"
     ]
    },
    {
     "name": "stdout",
     "output_type": "stream",
     "text": [
      "ImmutableMultiDict([('imgName', '퓨미라.jpg')])\n",
      "퓨미라.jpg\n",
      "타라\n"
     ]
    },
    {
     "name": "stderr",
     "output_type": "stream",
     "text": [
      "127.0.0.1 - - [30/Mar/2021 16:40:09] \"\u001b[37mPOST /getImgName HTTP/1.1\u001b[0m\" 200 -\n"
     ]
    },
    {
     "name": "stdout",
     "output_type": "stream",
     "text": [
      "ImmutableMultiDict([('imgName', 'QR.JPG')])\n",
      "QR.JPG\n",
      "금전수\n"
     ]
    }
   ],
   "source": [
    "app = Flask(__name__)       \n",
    "@app.route('/getImgName', methods=['GET', 'POST'])\n",
    "def getImgName():\n",
    "    result = \"\"\n",
    "\n",
    "    if request.method == 'POST':\n",
    "        print(request.form)\n",
    "        name = request.form['imgName']\n",
    "        decoded_data = urllib.parse.unquote(name, encoding='urf-8')\n",
    "        print(decoded_data)\n",
    "        \n",
    "        # name을 기준으로 파일 읽기\n",
    "        img = image.load_img(\"C:/test/{}\".format(decoded_data), target_size=(64,64))\n",
    "        targetArr = image.img_to_array(img)\n",
    "        \n",
    "        # 모델에게 예측\n",
    "        result = model.predict(targetArr.reshape(1, 64, 64, 3))\n",
    "        target_name = cls_index[np.argmax(result)]\n",
    "        print(target_name)\n",
    "        result = plantDic[target_name]\n",
    "        \n",
    "        \n",
    "        \n",
    "        \n",
    "    elif request.method == 'GET':\n",
    "        print(request.args)\n",
    "        name = request.args['imgName']\n",
    "        print(name)\n",
    "        \n",
    "        # name을 기준으로 파일 읽기\n",
    "        \n",
    "        # 모델에게 예측\n",
    "       \n",
    "    \n",
    "    return str(result)\n",
    "\n",
    "        \n",
    "if __name__ == '__main__':\n",
    "    app.run(host=\"127.0.0.1\", port=\"5000\")"
   ]
  },
  {
   "cell_type": "code",
   "execution_count": null,
   "id": "stopped-thanks",
   "metadata": {},
   "outputs": [],
   "source": []
  },
  {
   "cell_type": "code",
   "execution_count": null,
   "id": "welcome-thriller",
   "metadata": {},
   "outputs": [],
   "source": []
  },
  {
   "cell_type": "code",
   "execution_count": null,
   "id": "metropolitan-serial",
   "metadata": {},
   "outputs": [],
   "source": []
  },
  {
   "cell_type": "code",
   "execution_count": null,
   "id": "saving-objective",
   "metadata": {},
   "outputs": [],
   "source": []
  }
 ],
 "metadata": {
  "kernelspec": {
   "display_name": "Python 3",
   "language": "python",
   "name": "python3"
  },
  "language_info": {
   "codemirror_mode": {
    "name": "ipython",
    "version": 3
   },
   "file_extension": ".py",
   "mimetype": "text/x-python",
   "name": "python",
   "nbconvert_exporter": "python",
   "pygments_lexer": "ipython3",
   "version": "3.6.13"
  }
 },
 "nbformat": 4,
 "nbformat_minor": 5
}
